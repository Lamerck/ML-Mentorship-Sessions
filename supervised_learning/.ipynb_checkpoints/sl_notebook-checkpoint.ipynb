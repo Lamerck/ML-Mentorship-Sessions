{
 "cells": [
  {
   "cell_type": "markdown",
   "id": "8d72927d-1f16-4918-af19-98cd7eb57d02",
   "metadata": {},
   "source": [
    "## Supervised Learning Lab"
   ]
  },
  {
   "cell_type": "markdown",
   "id": "4b3e1746-dd7a-4f88-813e-dd98d8a6a991",
   "metadata": {},
   "source": [
    "### 1. Evolution of Machine Learning\n",
    "\n",
    "Machine Learning (ML) has evolved significantly over the past decades:\n",
    "\n",
    "- **1950s–1960s**: Foundations of AI; perceptron algorithms.\n",
    "- **1970s–1980s**: Symbolic AI and rule-based systems.\n",
    "- **1990s**: Rise of statistical learning; support vector machines.\n",
    "- **2000s**: Ensemble methods (Random Forest, Boosting).\n",
    "- **2010s–present**: Deep learning breakthroughs; big data era.\n",
    "ML now encompasses various approaches where we teach machines to learn patterns from data."
   ]
  },
  {
   "cell_type": "markdown",
   "id": "1f6a377e-3a74-40b5-b44a-622787359ed8",
   "metadata": {},
   "source": [
    "### 2. Taxonomy of Machine Learning Approaches\n",
    "\n",
    "Supervised learning is one umbrella under which multiple algorithms reside. Other major approaches:\n",
    "\n",
    "| Approach            | Definition                                                    | Techniques (examples)                     |\n",
    "|---------------------|---------------------------------------------------------------|-------------------------------------------|\n",
    "| **Supervised**      | Learn from labeled data to predict outcomes.                  | Regression, Classification (e.g., LR, RF) |\n",
    "| **Unsupervised**    | Discover structure in unlabeled data.                         | Clustering (K-Means), Dim. Reduction (PCA) |\n",
    "| **Reinforcement**   | Learn via trial-and-error and rewards.                        | Q-Learning, Policy Gradients             |\n",
    "| **Semi-supervised** | Combine small labeled with large unlabeled datasets.          | Self-training, Co-training               |"
   ]
  },
  {
   "cell_type": "markdown",
   "id": "db17b1ee-94cc-4a4c-9d20-375d6a46942a",
   "metadata": {},
   "source": [
    "### 3. Applications Across ML Approaches"
   ]
  },
  {
   "cell_type": "code",
   "execution_count": 1,
   "id": "17ac37a0-4ed5-418a-bba4-b216a3b8f673",
   "metadata": {},
   "outputs": [
    {
     "name": "stdout",
     "output_type": "stream",
     "text": [
      "Supervised: Email spam detection, Credit scoring, Medical diagnosis\n",
      "Unsupervised: Customer segmentation, Anomaly detection\n",
      "Reinforcement: Game playing (AlphaGo), Robotics\n",
      "Semi-supervised: Web page classification, Speech recognition\n"
     ]
    }
   ],
   "source": [
    "applications = {\n",
    "    'Supervised': ['Email spam detection', 'Credit scoring', 'Medical diagnosis'],\n",
    "    'Unsupervised': ['Customer segmentation', 'Anomaly detection'],\n",
    "    'Reinforcement': ['Game playing (AlphaGo)', 'Robotics'],\n",
    "    'Semi-supervised': ['Web page classification', 'Speech recognition'],\n",
    "}\n",
    "for approach, apps in applications.items():\n",
    "    print(f\"{approach}: {', '.join(apps)}\")"
   ]
  },
  {
   "cell_type": "markdown",
   "id": "a4b757bf-c9a2-4bbe-8ff4-71bfe0638b1f",
   "metadata": {},
   "source": [
    "### 4. What is Supervised Learning?\n",
    "\n",
    "**Definition**: Train models on input–output pairs to learn a mapping from features (X) to target (y).\n",
    "\n",
    "**Workflow**:\n",
    "1. Problem definition\n",
    "2. Data collection & cleaning\n",
    "3. Feature engineering\n",
    "4. Model training\n",
    "5. Evaluation\n",
    "6. Tuning & deployment\n",
    "\n",
    "**Key Terms**: Features, Target, Training/Test sets, Overfitting, Underfitting, Hyperparameters.\n",
    "\n",
    "**Common Python Libraries**: `pandas`, `numpy`, `matplotlib`, `seaborn`, `scikit-learn`."
   ]
  },
  {
   "cell_type": "markdown",
   "id": "f3e858bf-9c57-418b-8f6a-b9f66e0f5984",
   "metadata": {},
   "source": [
    "## 5. Popular Supervised Models & Use Cases\n",
    "\n",
    "| Model                | Type           | Use Case                           |\n",
    "|----------------------|----------------|------------------------------------|\n",
    "| Linear Regression    | Regression     | House price prediction             |\n",
    "| Logistic Regression  | Classification | Titanic survival, spam detection   |\n",
    "| Decision Trees       | Both           | Customer churn                     |\n",
    "| Random Forest        | Both           | Tabular data classification/regression |\n",
    "| K-Nearest Neighbors  | Both           | Image recognition (small datasets) |\n",
    "| Support Vector Machine | Both         | Text classification                |"
   ]
  },
  {
   "cell_type": "markdown",
   "id": "acf34563-f345-4362-8c35-49bc5883f145",
   "metadata": {},
   "source": [
    "### 6. Titanic Survival Prediction: Define the Problem\n",
    "\n",
    "- **Objective**: Predict `Survived` (0 or 1) for each passenger.\n",
    "- **Data**: Mix of numeric and categorical features; ~891 rows."
   ]
  },
  {
   "cell_type": "markdown",
   "id": "77db6a19-f42b-40d7-b85d-43a47c005a2e",
   "metadata": {},
   "source": [
    "### 7. Logistic Regression"
   ]
  },
  {
   "cell_type": "code",
   "execution_count": 2,
   "id": "78535d4d-dac8-4617-8a11-ecd84b3c8ae3",
   "metadata": {},
   "outputs": [],
   "source": [
    "import pandas as pd\n",
    "from sklearn.model_selection import train_test_split\n",
    "from sklearn.linear_model import LogisticRegression\n",
    "from sklearn.metrics import accuracy_score, roc_auc_score, classification_report"
   ]
  },
  {
   "cell_type": "code",
   "execution_count": 3,
   "id": "996314b9-a618-4d1a-a3b6-164889563d1d",
   "metadata": {},
   "outputs": [],
   "source": [
    "# y = mx + c\n",
    "# y = wx + b"
   ]
  },
  {
   "cell_type": "code",
   "execution_count": 4,
   "id": "91c27f91-2670-4695-a52a-9f7921c99f93",
   "metadata": {},
   "outputs": [
    {
     "data": {
      "text/html": [
       "<div>\n",
       "<style scoped>\n",
       "    .dataframe tbody tr th:only-of-type {\n",
       "        vertical-align: middle;\n",
       "    }\n",
       "\n",
       "    .dataframe tbody tr th {\n",
       "        vertical-align: top;\n",
       "    }\n",
       "\n",
       "    .dataframe thead th {\n",
       "        text-align: right;\n",
       "    }\n",
       "</style>\n",
       "<table border=\"1\" class=\"dataframe\">\n",
       "  <thead>\n",
       "    <tr style=\"text-align: right;\">\n",
       "      <th></th>\n",
       "      <th>PassengerId</th>\n",
       "      <th>Survived</th>\n",
       "      <th>Pclass</th>\n",
       "      <th>Name</th>\n",
       "      <th>Sex</th>\n",
       "      <th>Age</th>\n",
       "      <th>SibSp</th>\n",
       "      <th>Parch</th>\n",
       "      <th>Ticket</th>\n",
       "      <th>Fare</th>\n",
       "      <th>Cabin</th>\n",
       "      <th>Embarked</th>\n",
       "    </tr>\n",
       "  </thead>\n",
       "  <tbody>\n",
       "    <tr>\n",
       "      <th>0</th>\n",
       "      <td>1</td>\n",
       "      <td>0</td>\n",
       "      <td>3</td>\n",
       "      <td>Braund, Mr. Owen Harris</td>\n",
       "      <td>male</td>\n",
       "      <td>22.0</td>\n",
       "      <td>1</td>\n",
       "      <td>0</td>\n",
       "      <td>A/5 21171</td>\n",
       "      <td>7.2500</td>\n",
       "      <td>NaN</td>\n",
       "      <td>S</td>\n",
       "    </tr>\n",
       "    <tr>\n",
       "      <th>1</th>\n",
       "      <td>2</td>\n",
       "      <td>1</td>\n",
       "      <td>1</td>\n",
       "      <td>Cumings, Mrs. John Bradley (Florence Briggs Th...</td>\n",
       "      <td>female</td>\n",
       "      <td>38.0</td>\n",
       "      <td>1</td>\n",
       "      <td>0</td>\n",
       "      <td>PC 17599</td>\n",
       "      <td>71.2833</td>\n",
       "      <td>C85</td>\n",
       "      <td>C</td>\n",
       "    </tr>\n",
       "    <tr>\n",
       "      <th>2</th>\n",
       "      <td>3</td>\n",
       "      <td>1</td>\n",
       "      <td>3</td>\n",
       "      <td>Heikkinen, Miss. Laina</td>\n",
       "      <td>female</td>\n",
       "      <td>26.0</td>\n",
       "      <td>0</td>\n",
       "      <td>0</td>\n",
       "      <td>STON/O2. 3101282</td>\n",
       "      <td>7.9250</td>\n",
       "      <td>NaN</td>\n",
       "      <td>S</td>\n",
       "    </tr>\n",
       "    <tr>\n",
       "      <th>3</th>\n",
       "      <td>4</td>\n",
       "      <td>1</td>\n",
       "      <td>1</td>\n",
       "      <td>Futrelle, Mrs. Jacques Heath (Lily May Peel)</td>\n",
       "      <td>female</td>\n",
       "      <td>35.0</td>\n",
       "      <td>1</td>\n",
       "      <td>0</td>\n",
       "      <td>113803</td>\n",
       "      <td>53.1000</td>\n",
       "      <td>C123</td>\n",
       "      <td>S</td>\n",
       "    </tr>\n",
       "    <tr>\n",
       "      <th>4</th>\n",
       "      <td>5</td>\n",
       "      <td>0</td>\n",
       "      <td>3</td>\n",
       "      <td>Allen, Mr. William Henry</td>\n",
       "      <td>male</td>\n",
       "      <td>35.0</td>\n",
       "      <td>0</td>\n",
       "      <td>0</td>\n",
       "      <td>373450</td>\n",
       "      <td>8.0500</td>\n",
       "      <td>NaN</td>\n",
       "      <td>S</td>\n",
       "    </tr>\n",
       "  </tbody>\n",
       "</table>\n",
       "</div>"
      ],
      "text/plain": [
       "   PassengerId  Survived  Pclass  \\\n",
       "0            1         0       3   \n",
       "1            2         1       1   \n",
       "2            3         1       3   \n",
       "3            4         1       1   \n",
       "4            5         0       3   \n",
       "\n",
       "                                                Name     Sex   Age  SibSp  \\\n",
       "0                            Braund, Mr. Owen Harris    male  22.0      1   \n",
       "1  Cumings, Mrs. John Bradley (Florence Briggs Th...  female  38.0      1   \n",
       "2                             Heikkinen, Miss. Laina  female  26.0      0   \n",
       "3       Futrelle, Mrs. Jacques Heath (Lily May Peel)  female  35.0      1   \n",
       "4                           Allen, Mr. William Henry    male  35.0      0   \n",
       "\n",
       "   Parch            Ticket     Fare Cabin Embarked  \n",
       "0      0         A/5 21171   7.2500   NaN        S  \n",
       "1      0          PC 17599  71.2833   C85        C  \n",
       "2      0  STON/O2. 3101282   7.9250   NaN        S  \n",
       "3      0            113803  53.1000  C123        S  \n",
       "4      0            373450   8.0500   NaN        S  "
      ]
     },
     "execution_count": 4,
     "metadata": {},
     "output_type": "execute_result"
    }
   ],
   "source": [
    "df = pd.read_csv('train.csv')\n",
    "df.head()"
   ]
  },
  {
   "cell_type": "code",
   "execution_count": 5,
   "id": "3f7e9763-8f9a-4eb6-9c23-c424107bea05",
   "metadata": {},
   "outputs": [],
   "source": [
    "# Load and preprocess data\n",
    "features = ['Pclass','Sex','Age','SibSp','Parch','Fare','Embarked']\n",
    "X = df[features].copy()\n",
    "y = df['Survived']\n",
    "#['Age'].fillna(X['Age'].median(), inplace=True)\n",
    "#X['Embarked'].fillna(X['Embarked'].mode()[0], inplace=True)\n",
    "X = pd.get_dummies(X, columns=['Sex','Embarked'], drop_first=True)"
   ]
  },
  {
   "cell_type": "code",
   "execution_count": 6,
   "id": "6294fa78-d5b0-499d-a052-3d9049b6dd54",
   "metadata": {},
   "outputs": [
    {
     "data": {
      "text/html": [
       "<div>\n",
       "<style scoped>\n",
       "    .dataframe tbody tr th:only-of-type {\n",
       "        vertical-align: middle;\n",
       "    }\n",
       "\n",
       "    .dataframe tbody tr th {\n",
       "        vertical-align: top;\n",
       "    }\n",
       "\n",
       "    .dataframe thead th {\n",
       "        text-align: right;\n",
       "    }\n",
       "</style>\n",
       "<table border=\"1\" class=\"dataframe\">\n",
       "  <thead>\n",
       "    <tr style=\"text-align: right;\">\n",
       "      <th></th>\n",
       "      <th>Pclass</th>\n",
       "      <th>Age</th>\n",
       "      <th>SibSp</th>\n",
       "      <th>Parch</th>\n",
       "      <th>Fare</th>\n",
       "      <th>Sex_male</th>\n",
       "      <th>Embarked_Q</th>\n",
       "      <th>Embarked_S</th>\n",
       "    </tr>\n",
       "  </thead>\n",
       "  <tbody>\n",
       "    <tr>\n",
       "      <th>0</th>\n",
       "      <td>3</td>\n",
       "      <td>22.0</td>\n",
       "      <td>1</td>\n",
       "      <td>0</td>\n",
       "      <td>7.2500</td>\n",
       "      <td>True</td>\n",
       "      <td>False</td>\n",
       "      <td>True</td>\n",
       "    </tr>\n",
       "    <tr>\n",
       "      <th>1</th>\n",
       "      <td>1</td>\n",
       "      <td>38.0</td>\n",
       "      <td>1</td>\n",
       "      <td>0</td>\n",
       "      <td>71.2833</td>\n",
       "      <td>False</td>\n",
       "      <td>False</td>\n",
       "      <td>False</td>\n",
       "    </tr>\n",
       "    <tr>\n",
       "      <th>2</th>\n",
       "      <td>3</td>\n",
       "      <td>26.0</td>\n",
       "      <td>0</td>\n",
       "      <td>0</td>\n",
       "      <td>7.9250</td>\n",
       "      <td>False</td>\n",
       "      <td>False</td>\n",
       "      <td>True</td>\n",
       "    </tr>\n",
       "    <tr>\n",
       "      <th>3</th>\n",
       "      <td>1</td>\n",
       "      <td>35.0</td>\n",
       "      <td>1</td>\n",
       "      <td>0</td>\n",
       "      <td>53.1000</td>\n",
       "      <td>False</td>\n",
       "      <td>False</td>\n",
       "      <td>True</td>\n",
       "    </tr>\n",
       "    <tr>\n",
       "      <th>4</th>\n",
       "      <td>3</td>\n",
       "      <td>35.0</td>\n",
       "      <td>0</td>\n",
       "      <td>0</td>\n",
       "      <td>8.0500</td>\n",
       "      <td>True</td>\n",
       "      <td>False</td>\n",
       "      <td>True</td>\n",
       "    </tr>\n",
       "  </tbody>\n",
       "</table>\n",
       "</div>"
      ],
      "text/plain": [
       "   Pclass   Age  SibSp  Parch     Fare  Sex_male  Embarked_Q  Embarked_S\n",
       "0       3  22.0      1      0   7.2500      True       False        True\n",
       "1       1  38.0      1      0  71.2833     False       False       False\n",
       "2       3  26.0      0      0   7.9250     False       False        True\n",
       "3       1  35.0      1      0  53.1000     False       False        True\n",
       "4       3  35.0      0      0   8.0500      True       False        True"
      ]
     },
     "execution_count": 6,
     "metadata": {},
     "output_type": "execute_result"
    }
   ],
   "source": [
    "X.head()"
   ]
  },
  {
   "cell_type": "code",
   "execution_count": 7,
   "id": "21e8a730-a199-42fe-be9a-d0de4e89fac6",
   "metadata": {},
   "outputs": [
    {
     "name": "stdout",
     "output_type": "stream",
     "text": [
      "<class 'pandas.core.frame.DataFrame'>\n",
      "RangeIndex: 891 entries, 0 to 890\n",
      "Data columns (total 8 columns):\n",
      " #   Column      Non-Null Count  Dtype  \n",
      "---  ------      --------------  -----  \n",
      " 0   Pclass      891 non-null    int64  \n",
      " 1   Age         714 non-null    float64\n",
      " 2   SibSp       891 non-null    int64  \n",
      " 3   Parch       891 non-null    int64  \n",
      " 4   Fare        891 non-null    float64\n",
      " 5   Sex_male    891 non-null    bool   \n",
      " 6   Embarked_Q  891 non-null    bool   \n",
      " 7   Embarked_S  891 non-null    bool   \n",
      "dtypes: bool(3), float64(2), int64(3)\n",
      "memory usage: 37.5 KB\n"
     ]
    }
   ],
   "source": [
    "X.info()"
   ]
  },
  {
   "cell_type": "code",
   "execution_count": 8,
   "id": "47759721-9ca6-4f13-8b7b-36cc2c163aae",
   "metadata": {},
   "outputs": [
    {
     "name": "stderr",
     "output_type": "stream",
     "text": [
      "C:\\Users\\kavum\\AppData\\Local\\Temp\\ipykernel_13832\\668403536.py:1: FutureWarning: A value is trying to be set on a copy of a DataFrame or Series through chained assignment using an inplace method.\n",
      "The behavior will change in pandas 3.0. This inplace method will never work because the intermediate object on which we are setting values always behaves as a copy.\n",
      "\n",
      "For example, when doing 'df[col].method(value, inplace=True)', try using 'df.method({col: value}, inplace=True)' or df[col] = df[col].method(value) instead, to perform the operation inplace on the original object.\n",
      "\n",
      "\n",
      "  X['Age'].fillna(X['Age'].median(), inplace=True)\n"
     ]
    }
   ],
   "source": [
    "X['Age'].fillna(X['Age'].median(), inplace=True)"
   ]
  },
  {
   "cell_type": "code",
   "execution_count": 9,
   "id": "197e09e2-7043-41f0-8985-e69496a7e16f",
   "metadata": {},
   "outputs": [
    {
     "name": "stdout",
     "output_type": "stream",
     "text": [
      "<class 'pandas.core.frame.DataFrame'>\n",
      "RangeIndex: 891 entries, 0 to 890\n",
      "Data columns (total 8 columns):\n",
      " #   Column      Non-Null Count  Dtype  \n",
      "---  ------      --------------  -----  \n",
      " 0   Pclass      891 non-null    int64  \n",
      " 1   Age         891 non-null    float64\n",
      " 2   SibSp       891 non-null    int64  \n",
      " 3   Parch       891 non-null    int64  \n",
      " 4   Fare        891 non-null    float64\n",
      " 5   Sex_male    891 non-null    bool   \n",
      " 6   Embarked_Q  891 non-null    bool   \n",
      " 7   Embarked_S  891 non-null    bool   \n",
      "dtypes: bool(3), float64(2), int64(3)\n",
      "memory usage: 37.5 KB\n"
     ]
    }
   ],
   "source": [
    "X.info()"
   ]
  },
  {
   "cell_type": "code",
   "execution_count": 10,
   "id": "b80545f9-5b7d-490e-9003-f8deea081429",
   "metadata": {},
   "outputs": [
    {
     "data": {
      "text/plain": [
       "0      0\n",
       "1      1\n",
       "2      1\n",
       "3      1\n",
       "4      0\n",
       "      ..\n",
       "886    0\n",
       "887    1\n",
       "888    0\n",
       "889    1\n",
       "890    0\n",
       "Name: Survived, Length: 891, dtype: int64"
      ]
     },
     "execution_count": 10,
     "metadata": {},
     "output_type": "execute_result"
    }
   ],
   "source": [
    "y"
   ]
  },
  {
   "cell_type": "code",
   "execution_count": 11,
   "id": "d626391b-361e-46a9-9a39-8e55c590243c",
   "metadata": {},
   "outputs": [],
   "source": [
    "# Split\n",
    "def train_eval(model):\n",
    "    X_train,X_test,y_train,y_test = train_test_split(X,y,test_size=0.2, stratify=y,random_state=42)\n",
    "    model.fit(X_train,y_train)\n",
    "    y_pred = model.predict(X_test)\n",
    "    y_proba = model.predict_proba(X_test)[:,1]\n",
    "    print(f\"{model.__class__.__name__} -> Acc: {accuracy_score(y_test,y_pred):.3f}, AUC: {roc_auc_score(y_test,y_proba):.3f}\")\n",
    "    print(classification_report(y_test,y_pred))\n",
    "\n",
    "#features = ['Pclass','Sex','Age','SibSp','Parch','Fare','Embarked']\n",
    "#X = df[features].copy()\n",
    "#y = df['Survived']"
   ]
  },
  {
   "cell_type": "code",
   "execution_count": 12,
   "id": "4fa80411-008e-4f94-8944-964db97e069e",
   "metadata": {},
   "outputs": [
    {
     "name": "stdout",
     "output_type": "stream",
     "text": [
      "Logistic Regression Results\n",
      "LogisticRegression -> Acc: 0.804, AUC: 0.844\n",
      "              precision    recall  f1-score   support\n",
      "\n",
      "           0       0.81      0.89      0.85       110\n",
      "           1       0.79      0.67      0.72        69\n",
      "\n",
      "    accuracy                           0.80       179\n",
      "   macro avg       0.80      0.78      0.79       179\n",
      "weighted avg       0.80      0.80      0.80       179\n",
      "\n"
     ]
    }
   ],
   "source": [
    "# Train & evaluate\n",
    "print(\"Logistic Regression Results\")\n",
    "train_eval(LogisticRegression(max_iter=1000))"
   ]
  },
  {
   "cell_type": "code",
   "execution_count": 13,
   "id": "28d53902-15a7-43c3-80bd-decebc24c2f2",
   "metadata": {},
   "outputs": [],
   "source": [
    "## 8. Model 2: Random Forest"
   ]
  },
  {
   "cell_type": "code",
   "execution_count": 14,
   "id": "5d191031-c5e5-4f6a-8f10-b29078730641",
   "metadata": {},
   "outputs": [
    {
     "name": "stdout",
     "output_type": "stream",
     "text": [
      "\n",
      "Random Forest Results\n",
      "RandomForestClassifier -> Acc: 0.816, AUC: 0.834\n",
      "              precision    recall  f1-score   support\n",
      "\n",
      "           0       0.83      0.87      0.85       110\n",
      "           1       0.78      0.72      0.75        69\n",
      "\n",
      "    accuracy                           0.82       179\n",
      "   macro avg       0.81      0.80      0.80       179\n",
      "weighted avg       0.81      0.82      0.81       179\n",
      "\n"
     ]
    }
   ],
   "source": [
    "from sklearn.ensemble import RandomForestClassifier\n",
    "\n",
    "print(\"\\nRandom Forest Results\")\n",
    "train_eval(RandomForestClassifier(n_estimators=100, random_state=42))"
   ]
  },
  {
   "cell_type": "code",
   "execution_count": 15,
   "id": "6c6d0cfc-59f5-4239-a5ee-6b1fbeb90aaa",
   "metadata": {},
   "outputs": [],
   "source": [
    "## 9. Model Choice Rationale and Comparison"
   ]
  },
  {
   "cell_type": "code",
   "execution_count": 16,
   "id": "2948a749-f3a1-4cb0-ab90-1c172765ae7f",
   "metadata": {},
   "outputs": [
    {
     "ename": "SyntaxError",
     "evalue": "invalid syntax (3970444786.py, line 1)",
     "output_type": "error",
     "traceback": [
      "\u001b[1;36m  Cell \u001b[1;32mIn[16], line 1\u001b[1;36m\u001b[0m\n\u001b[1;33m    - **Logistic Regression**: Interpretable, fast, good baseline.\u001b[0m\n\u001b[1;37m      ^\u001b[0m\n\u001b[1;31mSyntaxError\u001b[0m\u001b[1;31m:\u001b[0m invalid syntax\n"
     ]
    }
   ],
   "source": [
    "- **Logistic Regression**: Interpretable, fast, good baseline.\n",
    "- **Random Forest**: Captures nonlinearities and interactions."
   ]
  },
  {
   "cell_type": "code",
   "execution_count": null,
   "id": "8dd243f4-b520-4e52-985e-1fe4ec759102",
   "metadata": {},
   "outputs": [],
   "source": []
  }
 ],
 "metadata": {
  "kernelspec": {
   "display_name": "Python 3 (ipykernel)",
   "language": "python",
   "name": "python3"
  },
  "language_info": {
   "codemirror_mode": {
    "name": "ipython",
    "version": 3
   },
   "file_extension": ".py",
   "mimetype": "text/x-python",
   "name": "python",
   "nbconvert_exporter": "python",
   "pygments_lexer": "ipython3",
   "version": "3.12.7"
  }
 },
 "nbformat": 4,
 "nbformat_minor": 5
}
